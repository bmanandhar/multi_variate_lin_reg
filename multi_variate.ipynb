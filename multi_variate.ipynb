{
 "cells": [
  {
   "cell_type": "code",
   "execution_count": 1,
   "id": "d81a658c",
   "metadata": {},
   "outputs": [],
   "source": [
    "# video: https://www.youtube.com/watch?v=sRh6w-tdtp0&ab_channel=CodingLane\n",
    "# data: https://www.kaggle.com/c/house-prices-advanced-regression-techniques/data \n",
    "# data description: https://raw.githubusercontent.com/Jaimin09/Coding-Lane-Assets/main/Multiple%20Linear%20Regression%20in%20Python/data_description.txt\n",
    "# train_data at github: https://raw.githubusercontent.com/Jaimin09/Coding-Lane-Assets/main/Multiple%20Linear%20Regression%20in%20Python/train_data.csv\n",
    "# test_data at github: https://raw.githubusercontent.com/Jaimin09/Coding-Lane-Assets/main/Multiple%20Linear%20Regression%20in%20Python/test_data.csv\n",
    "\n",
    "import numpy as np\n",
    "import pandas as pd\n",
    "import matplotlib.pyplot as plt\n",
    "\n",
    "%matplotlib inline"
   ]
  },
  {
   "cell_type": "code",
   "execution_count": 2,
   "id": "37640779",
   "metadata": {},
   "outputs": [],
   "source": [
    "train_data_file = 'https://raw.githubusercontent.com/Jaimin09/Coding-Lane-Assets/main/Multiple%20Linear%20Regression%20in%20Python/train_data.csv'\n",
    "test_data_file = 'https://raw.githubusercontent.com/Jaimin09/Coding-Lane-Assets/main/Multiple%20Linear%20Regression%20in%20Python/test_data.csv'\n",
    "train = pd.read_csv(train_data_file)\n",
    "test = pd.read_csv(test_data_file)"
   ]
  },
  {
   "cell_type": "code",
   "execution_count": 3,
   "id": "7cbeb762",
   "metadata": {},
   "outputs": [],
   "source": [
    "#drop unwanted features\n",
    "train = train.drop(['Unnamed: 0', 'Id'], axis=1)\n",
    "test = test.drop(['Unnamed: 0', 'Id'], axis=1)"
   ]
  },
  {
   "cell_type": "code",
   "execution_count": 4,
   "id": "c25252b4",
   "metadata": {},
   "outputs": [
    {
     "data": {
      "text/plain": [
       "'train.shape= (1200, 70); test.shape= (258, 70)'"
      ]
     },
     "execution_count": 4,
     "metadata": {},
     "output_type": "execute_result"
    }
   ],
   "source": [
    "f'{train.shape= }; {test.shape= }' # (num of rows, num of cols)"
   ]
  },
  {
   "cell_type": "code",
   "execution_count": 5,
   "id": "b8e19aef",
   "metadata": {},
   "outputs": [],
   "source": [
    "train_data = train.values\n",
    "X = train_data[:, :-1]\n",
    "y = train_data[:, -1].reshape(train_data.shape[0], 1)"
   ]
  },
  {
   "cell_type": "code",
   "execution_count": 7,
   "id": "1fad8a73",
   "metadata": {},
   "outputs": [],
   "source": [
    "test_data = test.values\n",
    "X_test = test_data[:, :-1]\n",
    "y_test = test_data[:, -1].reshape(test_data.shape[0], 1)"
   ]
  },
  {
   "cell_type": "code",
   "execution_count": 8,
   "id": "dfa7b045",
   "metadata": {},
   "outputs": [],
   "source": [
    "X = np.vstack((np.ones((X.shape[0], )), X.T)).T\n",
    "X_test = np.vstack((np.ones((X_test.shape[0], )), X_test.T)).T"
   ]
  },
  {
   "cell_type": "code",
   "execution_count": 9,
   "id": "a32d92a5",
   "metadata": {},
   "outputs": [
    {
     "data": {
      "text/plain": [
       "'X.shape= (1200, 70) | y.shape= (1200, 1) | X_test.shape= (258, 70) | y_test.shape= (258, 1)'"
      ]
     },
     "execution_count": 9,
     "metadata": {},
     "output_type": "execute_result"
    }
   ],
   "source": [
    "f'{X.shape= } | {y.shape= } | {X_test.shape= } | {y_test.shape= }'"
   ]
  },
  {
   "cell_type": "code",
   "execution_count": 10,
   "id": "91bd0973",
   "metadata": {},
   "outputs": [],
   "source": [
    "def model(X, y, learning_rate, iteration):\n",
    "    \n",
    "    m = y.size\n",
    "    \n",
    "    theta = np.zeros((X.shape[1], 1))\n",
    "    cost_list = list()\n",
    "    \n",
    "    for i in range(iteration):\n",
    "        \n",
    "        y_pred = np.dot(X, theta)\n",
    "        \n",
    "        cost = (1/(2*m))*np.sum(np.square(y_pred - y))\n",
    "        \n",
    "        d_theta = (1/m)*np.dot(X.T, y_pred - y)\n",
    "        theta = theta - learning_rate*d_theta\n",
    "        \n",
    "        cost_list.append(cost)\n",
    "        \n",
    "        if (i % iteration/10 == 0):\n",
    "            print('cost:: ', cost)\n",
    "    \n",
    "    return theta, cost_list"
   ]
  },
  {
   "cell_type": "code",
   "execution_count": 11,
   "id": "6227c336",
   "metadata": {},
   "outputs": [
    {
     "name": "stdout",
     "output_type": "stream",
     "text": [
      "cost::  72.37539364066856\n"
     ]
    }
   ],
   "source": [
    "iteration = 1000\n",
    "learning_rate = 0.000000005\n",
    "theta, cost_list = model(X, y, learning_rate=learning_rate, iteration=iteration, )"
   ]
  },
  {
   "cell_type": "code",
   "execution_count": 12,
   "id": "984e3f58",
   "metadata": {},
   "outputs": [
    {
     "data": {
      "image/png": "[encoded data removed]",
      "text/plain": [
       "<Figure size 640x480 with 1 Axes>"
      ]
     },
     "metadata": {},
     "output_type": "display_data"
    }
   ],
   "source": [
    "rng = np.arange(0, iteration)\n",
    "plt.plot(rng, cost_list)\n",
    "plt.show()"
   ]
  },
  {
   "cell_type": "markdown",
   "id": "50c92c93",
   "metadata": {},
   "source": [
    "#### cost=$\\frac{1}{m}\\sum|y\\_pred - y|$"
   ]
  },
  {
   "cell_type": "code",
   "execution_count": 13,
   "id": "b5207506",
   "metadata": {},
   "outputs": [
    {
     "data": {
      "text/plain": [
       "0.1865679034890514"
      ]
     },
     "execution_count": 13,
     "metadata": {},
     "output_type": "execute_result"
    }
   ],
   "source": [
    "y_pred = np.dot(X_test, theta)\n",
    "m = X_test.shape[0]\n",
    "error = (1/m)*np.sum(np.abs(y_pred - y_test))\n",
    "error"
   ]
  },
  {
   "cell_type": "code",
   "execution_count": 18,
   "id": "69b53e62",
   "metadata": {},
   "outputs": [
    {
     "name": "stdout",
     "output_type": "stream",
     "text": [
      "Test error is::  18.66 %\n",
      "Test Accuracy is::  81.34 %\n"
     ]
    }
   ],
   "source": [
    "print('Test error is:: ', round(error, 4)*100, '%')\n",
    "print('Test Accuracy is:: ', round(1-error, 4)*100, '%')"
   ]
  },
  {
   "cell_type": "code",
   "execution_count": 24,
   "id": "b61007a0",
   "metadata": {},
   "outputs": [
    {
     "data": {
      "text/plain": [
       "array([[ 1,  2,  3,  4],\n",
       "       [ 4,  5,  6,  7],\n",
       "       [ 7,  8,  9, 10]])"
      ]
     },
     "execution_count": 24,
     "metadata": {},
     "output_type": "execute_result"
    }
   ],
   "source": [
    "a = np.array([1,2,3,4]); b = np.array([4,5,6,7]); c = np.array([7,8,9,10])\n",
    "np.vstack((a,b,c))"
   ]
  },
  {
   "cell_type": "code",
   "execution_count": 31,
   "id": "4b57d8de",
   "metadata": {},
   "outputs": [
    {
     "data": {
      "text/plain": [
       "array([1., 1., 1., 1., 1.])"
      ]
     },
     "execution_count": 31,
     "metadata": {},
     "output_type": "execute_result"
    }
   ],
   "source": [
    "np.ones((5, ))"
   ]
  },
  {
   "cell_type": "code",
   "execution_count": 35,
   "id": "7e757977",
   "metadata": {},
   "outputs": [
    {
     "data": {
      "text/plain": [
       "array([[1, 4, 7],\n",
       "       [2, 5, 8],\n",
       "       [3, 6, 9]])"
      ]
     },
     "execution_count": 35,
     "metadata": {},
     "output_type": "execute_result"
    }
   ],
   "source": [
    "np.array([[1,2,3], [4,5,6], [7,8,9]]).T"
   ]
  },
  {
   "cell_type": "code",
   "execution_count": null,
   "id": "b17e5557",
   "metadata": {},
   "outputs": [],
   "source": []
  }
 ],
 "metadata": {
  "kernelspec": {
   "display_name": "Python 3 (ipykernel)",
   "language": "python",
   "name": "python3"
  },
  "language_info": {
   "codemirror_mode": {
    "name": "ipython",
    "version": 3
   },
   "file_extension": ".py",
   "mimetype": "text/x-python",
   "name": "python",
   "nbconvert_exporter": "python",
   "pygments_lexer": "ipython3",
   "version": "3.9.13"
  }
 },
 "nbformat": 4,
 "nbformat_minor": 5
}
